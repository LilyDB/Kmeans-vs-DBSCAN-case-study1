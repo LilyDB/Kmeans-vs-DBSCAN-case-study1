{
  "nbformat": 4,
  "nbformat_minor": 0,
  "metadata": {
    "colab": {
      "name": "Untitled12.ipynb",
      "provenance": []
    },
    "kernelspec": {
      "name": "python3",
      "display_name": "Python 3"
    }
  },
  "cells": [
    {
      "cell_type": "code",
      "metadata": {
        "colab": {
          "base_uri": "https://localhost:8080/"
        },
        "id": "hMiqBil3bdDw",
        "outputId": "96532a57-f863-4a99-9d64-8b66ba1fe018"
      },
      "source": [
        "!pip install plotly"
      ],
      "execution_count": 1,
      "outputs": [
        {
          "output_type": "stream",
          "text": [
            "Requirement already satisfied: plotly in /usr/local/lib/python3.6/dist-packages (4.4.1)\n",
            "Requirement already satisfied: six in /usr/local/lib/python3.6/dist-packages (from plotly) (1.15.0)\n",
            "Requirement already satisfied: retrying>=1.3.3 in /usr/local/lib/python3.6/dist-packages (from plotly) (1.3.3)\n"
          ],
          "name": "stdout"
        }
      ]
    },
    {
      "cell_type": "code",
      "metadata": {
        "id": "0m5pSgZybhLK"
      },
      "source": [
        "# array, dataframe manipulation\r\n",
        "import math\r\n",
        "import numpy as np\r\n",
        "import os\r\n",
        "import pandas as pd\r\n",
        "from six import iteritems\r\n",
        "from functools import reduce\r\n",
        "\r\n",
        "# cluster\r\n",
        "from sklearn import metrics\r\n",
        "from sklearn.cluster import OPTICS, cluster_optics_dbscan,DBSCAN \r\n",
        "from sklearn.cluster import KMeans\r\n",
        "from sklearn.metrics import silhouette_score\r\n",
        "\r\n",
        "# plot\r\n",
        "import plotly\r\n",
        "import plotly.graph_objects as go\r\n",
        "import seaborn as sns\r\n",
        "import matplotlib.pyplot as plt\r\n",
        "import matplotlib.gridspec as gridspec\r\n",
        "\r\n",
        "\r\n",
        "%matplotlib inline\r\n",
        "np.random.seed(9999)"
      ],
      "execution_count": 2,
      "outputs": []
    },
    {
      "cell_type": "code",
      "metadata": {
        "id": "f-AIO2INbktN"
      },
      "source": [
        "# Conduct DBSCAN for comparison\r\n",
        "\r\n",
        "def hyperparameter_tuning(df):\r\n",
        "  \"\"\" input: dataframe contains only parameters for clustering purpose\r\n",
        "      output: min cluster, min sample, xi \r\n",
        "      reference source: https://stackoverflow.com/questions/12893492/choosing-eps-and-minpts-for-dbscan-r\r\n",
        "  \"\"\"\r\n",
        "  X = len(df)\r\n",
        "  count = 0\r\n",
        "  while(X>0):\r\n",
        "    X=X//10  # result is rounded to the next smallest whole number\r\n",
        "    count=count+1\r\n",
        "    min_cluster_size = int(round(X/pow(100,count)))\r\n",
        "    min_samples      = int(round(np.log(X)))-1\r\n",
        "    xi               = min_samples/(pow(10,count+1))\r\n",
        "    \r\n",
        "    return min_cluster_size,min_samples ,xi\r\n",
        "  \r\n",
        "############################################################################\r\n",
        "def optic_plot(df_for_cluster,min_samples, xi, min_cluster_size):\r\n",
        "    X = df_for_cluster.values\r\n",
        "    \r\n",
        "    clust = OPTICS(min_samples=min_samples, xi=xi, min_cluster_size=min_cluster_size)\r\n",
        "    \r\n",
        "    # Run the fit\r\n",
        "    clust.fit(X)\r\n",
        "    \r\n",
        "    # plot\r\n",
        "    space = np.arange(len(X))\r\n",
        "    reachability = clust.reachability_[clust.ordering_]\r\n",
        "    labels = clust.labels_[clust.ordering_]\r\n",
        "\r\n",
        "    plt.figure(figsize=(10, 7))\r\n",
        "    G = gridspec.GridSpec(2, 3)\r\n",
        "    ax1 = plt.subplot(G[0, :])\r\n",
        "\r\n",
        "    # Reachability plot\r\n",
        "    colors = ['g.', 'r.', 'b.', 'y.', 'c.']\r\n",
        "    for klass, color in zip(range(0, 5), colors):\r\n",
        "        Xk = space[labels == klass]\r\n",
        "        Rk = reachability[labels == klass]\r\n",
        "        ax1.plot(Xk, Rk, color, alpha=0.3)\r\n",
        "    ax1.plot(space[labels == -1], reachability[labels == -1], 'k.', alpha=0.3)\r\n",
        "    ax1.set_ylabel('Reachability (epsilon distance)')\r\n",
        "    ax1.set_title('Reachability Plot')\r\n",
        "\r\n",
        "    plt.tight_layout()\r\n",
        "    return plt.show()\r\n",
        "\r\n",
        "  \r\n",
        "############################################################################\r\n",
        "def dbscan_kmeans_c(cluster_type,scaled_df,raw_df,k=None,eps=None,min_samples=None,metric=None):\r\n",
        "  \"\"\"\r\n",
        "  DBSCAN is used when we don't have to assign number of clusters\r\n",
        "  \r\n",
        "  Manhattan distance if the input variables are not similar in type (such as age, gender, height, etc.). \r\n",
        "  Euclidean distance becomes a poor choice when the number of dimensions increases.\r\n",
        "  \r\n",
        "  Input:\r\n",
        "  scaled_df:      scaled data frame ready for clustering, sharing same indexes with raw_df\r\n",
        "  metric:         'euclidean' for example euclidean distance\r\n",
        "  Output:         orginal dataframe with cluster labelling\r\n",
        "  \"\"\"\r\n",
        "  # In this case Euclidean distance was used because there are only 2 parameters and in the same type (percentage)\r\n",
        "  try:\r\n",
        "    if cluster_type=='dbscan':\r\n",
        "      dbscan = DBSCAN(eps,\r\n",
        "                      min_samples, \r\n",
        "                      metric=metric)\r\n",
        "      c = dbscan.fit(scaled_df)\r\n",
        "      \r\n",
        "    elif cluster_type=='kmeans':\r\n",
        "      kmeans = KMeans(n_clusters=k)\r\n",
        "      c = kmeans.fit(scaled_df)\r\n",
        "      \r\n",
        "    cluster_map = pd.DataFrame()\r\n",
        "    cluster_map['cluster'] = c.labels_\r\n",
        "    cluster = pd.concat([cluster_map, raw_df],  axis=1)\r\n",
        "    return cluster\r\n",
        "    \r\n",
        "  except ArithmeticError:\r\n",
        "    var_exists = False\r\n",
        "    \r\n",
        "  else:\r\n",
        "    var_exists = True\r\n",
        "    \r\n",
        "  if not var_exists:\r\n",
        "    print(\"no data loaded...\")\r\n",
        "    return 0\r\n"
      ],
      "execution_count": null,
      "outputs": []
    }
  ]
}